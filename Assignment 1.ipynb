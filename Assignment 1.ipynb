{
 "cells": [
  {
   "cell_type": "markdown",
   "id": "df9e321b",
   "metadata": {},
   "source": [
    "### Write a Python program to get the Fibonacci series between 0 to 50"
   ]
  },
  {
   "cell_type": "code",
   "execution_count": 1,
   "id": "6ba05307",
   "metadata": {},
   "outputs": [
    {
     "name": "stdout",
     "output_type": "stream",
     "text": [
      "50\n",
      "the fibonacci sequence of 50  is:\n",
      "1\n",
      "1\n",
      "2\n",
      "3\n",
      "5\n",
      "8\n",
      "13\n",
      "21\n",
      "34\n"
     ]
    }
   ],
   "source": [
    "n=int(input())\n",
    "n1=0\n",
    "n2=1\n",
    "print(\"the fibonacci sequence of\",n,\" is:\")\n",
    "while n2<n:\n",
    "    print(n2)\n",
    "    nth=n1+n2\n",
    "    n1=n2\n",
    "    n2=nth"
   ]
  },
  {
   "cell_type": "markdown",
   "id": "c48dc12b",
   "metadata": {},
   "source": [
    "### Write a Python program that accepts a word from the user and reverse it."
   ]
  },
  {
   "cell_type": "code",
   "execution_count": 2,
   "id": "1f651e08",
   "metadata": {},
   "outputs": [
    {
     "name": "stdout",
     "output_type": "stream",
     "text": [
      "enter word: edyoda\n",
      "adoyde\n",
      "\n"
     ]
    }
   ],
   "source": [
    "s = input(\"enter word: \")\n",
    "\n",
    "for char in range(len(s) - 1, -1, -1):\n",
    "  print(s[char], end=\"\")\n",
    "print(\"\\n\")"
   ]
  },
  {
   "cell_type": "markdown",
   "id": "d4452b74",
   "metadata": {},
   "source": [
    "### Write a Python program to count the number of even and odd numbers from a series of numbers."
   ]
  },
  {
   "cell_type": "code",
   "execution_count": 4,
   "id": "16a4d53d",
   "metadata": {},
   "outputs": [
    {
     "name": "stdout",
     "output_type": "stream",
     "text": [
      "the count of even numbers in the given series [1, 2, 3, 4, 5, 6, 7, 8, 9] is 4\n",
      "the count of odd numbers in the given series [1, 2, 3, 4, 5, 6, 7, 8, 9] is 5\n"
     ]
    }
   ],
   "source": [
    "L=[1,2,3,4,5,6,7,8,9]\n",
    "even=0\n",
    "odd=0\n",
    "for i in L:\n",
    "    if i%2==0:\n",
    "        even+=1\n",
    "    else:\n",
    "        odd+=1\n",
    "print(\"the count of even numbers in the given series\",L,\"is\",even)\n",
    "print(\"the count of odd numbers in the given series\",L,\"is\",odd)"
   ]
  },
  {
   "cell_type": "code",
   "execution_count": null,
   "id": "89d66c1e",
   "metadata": {},
   "outputs": [],
   "source": []
  }
 ],
 "metadata": {
  "kernelspec": {
   "display_name": "Python 3",
   "language": "python",
   "name": "python3"
  },
  "language_info": {
   "codemirror_mode": {
    "name": "ipython",
    "version": 3
   },
   "file_extension": ".py",
   "mimetype": "text/x-python",
   "name": "python",
   "nbconvert_exporter": "python",
   "pygments_lexer": "ipython3",
   "version": "3.8.8"
  }
 },
 "nbformat": 4,
 "nbformat_minor": 5
}
